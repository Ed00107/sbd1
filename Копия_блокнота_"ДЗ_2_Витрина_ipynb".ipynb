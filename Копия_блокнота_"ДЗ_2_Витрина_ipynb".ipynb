{
  "cells": [
    {
      "cell_type": "markdown",
      "metadata": {
        "id": "view-in-github",
        "colab_type": "text"
      },
      "source": [
        "<a href=\"https://colab.research.google.com/github/Ed00107/sbd1/blob/main/%D0%9A%D0%BE%D0%BF%D0%B8%D1%8F_%D0%B1%D0%BB%D0%BE%D0%BA%D0%BD%D0%BE%D1%82%D0%B0_%22%D0%94%D0%97_2_%D0%92%D0%B8%D1%82%D1%80%D0%B8%D0%BD%D0%B0_ipynb%22.ipynb\" target=\"_parent\"><img src=\"https://colab.research.google.com/assets/colab-badge.svg\" alt=\"Open In Colab\"/></a>"
      ]
    },
    {
      "cell_type": "markdown",
      "metadata": {
        "id": "kVmH10PbPCbd"
      },
      "source": [
        "# Домашнее задание №2. Атрибуция каналов привлечения"
      ]
    },
    {
      "cell_type": "markdown",
      "metadata": {
        "id": "U7bjwNNbPCbe"
      },
      "source": [
        "Вы работаете аналитиком в интернет-магазине Ascent: [ссылка](http://shop-stdata.tilda.ws/). Вам пришло сообщение от вашего коллеги-аналитика:\n",
        "\n",
        "![Условие](https://sun9-46.userapi.com/s/v1/if2/v72TY8B5Dya-tYzTT4IvzEmUi52aYDzOWKwzuPjtp2ScQmmduHo4E4TEVuTsWx3ibZgstaWtQIQTgRIb2v93RnZp.jpg?size=1496x820&quality=95&type=album)"
      ]
    },
    {
      "cell_type": "markdown",
      "metadata": {
        "id": "mx0v79QOPCbf"
      },
      "source": [
        "Вашей задачей является реализация данной витрины, результат сохраните в файл order_acquisition.csv. Также вам нужно описать логику присвоения каналов, которую вы посчитали релевантной для данной бизнес-задачи. Весь python-код и sql-код нужно занести в этот jupyter-notebook. "
      ]
    },
    {
      "cell_type": "markdown",
      "metadata": {
        "id": "nTlpUNB5PCbf"
      },
      "source": [
        "### Описание бизнес-логики присвоения каналов\n",
        "Ответьте на вопрос коллег из маркетинга и business development: по какой логике мы устанавливаем источник трафика для юзера? \n"
      ]
    },
    {
      "cell_type": "code",
      "source": [],
      "metadata": {
        "id": "9Gr-zvVrPbu0"
      },
      "execution_count": null,
      "outputs": []
    },
    {
      "cell_type": "code",
      "metadata": {
        "id": "w5oyx4OaOP9s",
        "colab": {
          "base_uri": "https://localhost:8080/"
        },
        "outputId": "6bdcd60d-d765-4465-f4a6-79a7af1243a5"
      },
      "source": [
        "!pip install psycopg2"
      ],
      "execution_count": null,
      "outputs": [
        {
          "output_type": "stream",
          "name": "stdout",
          "text": [
            "Looking in indexes: https://pypi.org/simple, https://us-python.pkg.dev/colab-wheels/public/simple/\n",
            "Requirement already satisfied: psycopg2 in /usr/local/lib/python3.8/dist-packages (2.9.5)\n"
          ]
        }
      ]
    },
    {
      "cell_type": "code",
      "metadata": {
        "id": "z4BDycl5ORbd"
      },
      "source": [
        "import psycopg2\n",
        "import pandas as pd\n",
        "\n",
        "DB_HOST = 'de-edu-db.chronosavant.ru'\n",
        "DB_USER = 'da11'\n",
        "DB_USER_PASSWORD = 'gandalfthegrey'\n",
        "DB_NAME = 'edu'\n",
        "\n",
        "conn = psycopg2.connect(host=DB_HOST, user=DB_USER, password=DB_USER_PASSWORD, dbname=DB_NAME)"
      ],
      "execution_count": null,
      "outputs": []
    },
    {
      "cell_type": "markdown",
      "source": [
        "### Реализация"
      ],
      "metadata": {
        "id": "Ib7WsaYzPcOZ"
      }
    },
    {
      "cell_type": "code",
      "source": [
        "pd.read_sql_query(\"\"\"\n",
        "Select user_id as order_id,x.channel as acquisition_name,count(*)\n",
        "from da.user_payments as up\n",
        "Inner join da.user_x_channel as x using(user_id)\n",
        "group by order_id,acquisition_name\n",
        "order by order_id\n",
        "\n",
        ";\"\"\",conn)"
      ],
      "metadata": {
        "colab": {
          "base_uri": "https://localhost:8080/",
          "height": 424
        },
        "id": "BUdOWQPw7wZ7",
        "outputId": "6b2966e7-0b5c-4f6f-b80a-b81ce1fcc913"
      },
      "execution_count": null,
      "outputs": [
        {
          "output_type": "execute_result",
          "data": {
            "text/plain": [
              "                     order_id acquisition_name  count\n",
              "0    6246b7d1dcd39f5d07e1b90d    yandex direct      2\n",
              "1    6246c300e4f4960bb1162416           vk.com      8\n",
              "2    6247527ed0254e09de6dc41a    google direct      6\n",
              "3    6247a85b5814321ec2638915   Organic mobile      2\n",
              "4    624806e8e8236e53243092ee           vk.com      1\n",
              "..                        ...              ...    ...\n",
              "732  6331fa9576edaf464eb383b9           vk.com      1\n",
              "733  633218f4625ee11195cf23c6    google direct      1\n",
              "734  633443f1918365178e64de29    google direct      1\n",
              "735  63349385e56fd43b96f55fbb           vk.com      1\n",
              "736  6336a08461f7fe528f24eebf    google direct      1\n",
              "\n",
              "[737 rows x 3 columns]"
            ],
            "text/html": [
              "\n",
              "  <div id=\"df-713932f5-3f4a-414c-9912-494e31b12fc3\">\n",
              "    <div class=\"colab-df-container\">\n",
              "      <div>\n",
              "<style scoped>\n",
              "    .dataframe tbody tr th:only-of-type {\n",
              "        vertical-align: middle;\n",
              "    }\n",
              "\n",
              "    .dataframe tbody tr th {\n",
              "        vertical-align: top;\n",
              "    }\n",
              "\n",
              "    .dataframe thead th {\n",
              "        text-align: right;\n",
              "    }\n",
              "</style>\n",
              "<table border=\"1\" class=\"dataframe\">\n",
              "  <thead>\n",
              "    <tr style=\"text-align: right;\">\n",
              "      <th></th>\n",
              "      <th>order_id</th>\n",
              "      <th>acquisition_name</th>\n",
              "      <th>count</th>\n",
              "    </tr>\n",
              "  </thead>\n",
              "  <tbody>\n",
              "    <tr>\n",
              "      <th>0</th>\n",
              "      <td>6246b7d1dcd39f5d07e1b90d</td>\n",
              "      <td>yandex direct</td>\n",
              "      <td>2</td>\n",
              "    </tr>\n",
              "    <tr>\n",
              "      <th>1</th>\n",
              "      <td>6246c300e4f4960bb1162416</td>\n",
              "      <td>vk.com</td>\n",
              "      <td>8</td>\n",
              "    </tr>\n",
              "    <tr>\n",
              "      <th>2</th>\n",
              "      <td>6247527ed0254e09de6dc41a</td>\n",
              "      <td>google direct</td>\n",
              "      <td>6</td>\n",
              "    </tr>\n",
              "    <tr>\n",
              "      <th>3</th>\n",
              "      <td>6247a85b5814321ec2638915</td>\n",
              "      <td>Organic mobile</td>\n",
              "      <td>2</td>\n",
              "    </tr>\n",
              "    <tr>\n",
              "      <th>4</th>\n",
              "      <td>624806e8e8236e53243092ee</td>\n",
              "      <td>vk.com</td>\n",
              "      <td>1</td>\n",
              "    </tr>\n",
              "    <tr>\n",
              "      <th>...</th>\n",
              "      <td>...</td>\n",
              "      <td>...</td>\n",
              "      <td>...</td>\n",
              "    </tr>\n",
              "    <tr>\n",
              "      <th>732</th>\n",
              "      <td>6331fa9576edaf464eb383b9</td>\n",
              "      <td>vk.com</td>\n",
              "      <td>1</td>\n",
              "    </tr>\n",
              "    <tr>\n",
              "      <th>733</th>\n",
              "      <td>633218f4625ee11195cf23c6</td>\n",
              "      <td>google direct</td>\n",
              "      <td>1</td>\n",
              "    </tr>\n",
              "    <tr>\n",
              "      <th>734</th>\n",
              "      <td>633443f1918365178e64de29</td>\n",
              "      <td>google direct</td>\n",
              "      <td>1</td>\n",
              "    </tr>\n",
              "    <tr>\n",
              "      <th>735</th>\n",
              "      <td>63349385e56fd43b96f55fbb</td>\n",
              "      <td>vk.com</td>\n",
              "      <td>1</td>\n",
              "    </tr>\n",
              "    <tr>\n",
              "      <th>736</th>\n",
              "      <td>6336a08461f7fe528f24eebf</td>\n",
              "      <td>google direct</td>\n",
              "      <td>1</td>\n",
              "    </tr>\n",
              "  </tbody>\n",
              "</table>\n",
              "<p>737 rows × 3 columns</p>\n",
              "</div>\n",
              "      <button class=\"colab-df-convert\" onclick=\"convertToInteractive('df-713932f5-3f4a-414c-9912-494e31b12fc3')\"\n",
              "              title=\"Convert this dataframe to an interactive table.\"\n",
              "              style=\"display:none;\">\n",
              "        \n",
              "  <svg xmlns=\"http://www.w3.org/2000/svg\" height=\"24px\"viewBox=\"0 0 24 24\"\n",
              "       width=\"24px\">\n",
              "    <path d=\"M0 0h24v24H0V0z\" fill=\"none\"/>\n",
              "    <path d=\"M18.56 5.44l.94 2.06.94-2.06 2.06-.94-2.06-.94-.94-2.06-.94 2.06-2.06.94zm-11 1L8.5 8.5l.94-2.06 2.06-.94-2.06-.94L8.5 2.5l-.94 2.06-2.06.94zm10 10l.94 2.06.94-2.06 2.06-.94-2.06-.94-.94-2.06-.94 2.06-2.06.94z\"/><path d=\"M17.41 7.96l-1.37-1.37c-.4-.4-.92-.59-1.43-.59-.52 0-1.04.2-1.43.59L10.3 9.45l-7.72 7.72c-.78.78-.78 2.05 0 2.83L4 21.41c.39.39.9.59 1.41.59.51 0 1.02-.2 1.41-.59l7.78-7.78 2.81-2.81c.8-.78.8-2.07 0-2.86zM5.41 20L4 18.59l7.72-7.72 1.47 1.35L5.41 20z\"/>\n",
              "  </svg>\n",
              "      </button>\n",
              "      \n",
              "  <style>\n",
              "    .colab-df-container {\n",
              "      display:flex;\n",
              "      flex-wrap:wrap;\n",
              "      gap: 12px;\n",
              "    }\n",
              "\n",
              "    .colab-df-convert {\n",
              "      background-color: #E8F0FE;\n",
              "      border: none;\n",
              "      border-radius: 50%;\n",
              "      cursor: pointer;\n",
              "      display: none;\n",
              "      fill: #1967D2;\n",
              "      height: 32px;\n",
              "      padding: 0 0 0 0;\n",
              "      width: 32px;\n",
              "    }\n",
              "\n",
              "    .colab-df-convert:hover {\n",
              "      background-color: #E2EBFA;\n",
              "      box-shadow: 0px 1px 2px rgba(60, 64, 67, 0.3), 0px 1px 3px 1px rgba(60, 64, 67, 0.15);\n",
              "      fill: #174EA6;\n",
              "    }\n",
              "\n",
              "    [theme=dark] .colab-df-convert {\n",
              "      background-color: #3B4455;\n",
              "      fill: #D2E3FC;\n",
              "    }\n",
              "\n",
              "    [theme=dark] .colab-df-convert:hover {\n",
              "      background-color: #434B5C;\n",
              "      box-shadow: 0px 1px 3px 1px rgba(0, 0, 0, 0.15);\n",
              "      filter: drop-shadow(0px 1px 2px rgba(0, 0, 0, 0.3));\n",
              "      fill: #FFFFFF;\n",
              "    }\n",
              "  </style>\n",
              "\n",
              "      <script>\n",
              "        const buttonEl =\n",
              "          document.querySelector('#df-713932f5-3f4a-414c-9912-494e31b12fc3 button.colab-df-convert');\n",
              "        buttonEl.style.display =\n",
              "          google.colab.kernel.accessAllowed ? 'block' : 'none';\n",
              "\n",
              "        async function convertToInteractive(key) {\n",
              "          const element = document.querySelector('#df-713932f5-3f4a-414c-9912-494e31b12fc3');\n",
              "          const dataTable =\n",
              "            await google.colab.kernel.invokeFunction('convertToInteractive',\n",
              "                                                     [key], {});\n",
              "          if (!dataTable) return;\n",
              "\n",
              "          const docLinkHtml = 'Like what you see? Visit the ' +\n",
              "            '<a target=\"_blank\" href=https://colab.research.google.com/notebooks/data_table.ipynb>data table notebook</a>'\n",
              "            + ' to learn more about interactive tables.';\n",
              "          element.innerHTML = '';\n",
              "          dataTable['output_type'] = 'display_data';\n",
              "          await google.colab.output.renderOutput(dataTable, element);\n",
              "          const docLink = document.createElement('div');\n",
              "          docLink.innerHTML = docLinkHtml;\n",
              "          element.appendChild(docLink);\n",
              "        }\n",
              "      </script>\n",
              "    </div>\n",
              "  </div>\n",
              "  "
            ]
          },
          "metadata": {},
          "execution_count": 69
        }
      ]
    }
  ],
  "metadata": {
    "kernelspec": {
      "display_name": "Python 3",
      "language": "python",
      "name": "python3"
    },
    "language_info": {
      "codemirror_mode": {
        "name": "ipython",
        "version": 3
      },
      "file_extension": ".py",
      "mimetype": "text/x-python",
      "name": "python",
      "nbconvert_exporter": "python",
      "pygments_lexer": "ipython3",
      "version": "3.7.4"
    },
    "colab": {
      "provenance": [],
      "include_colab_link": true
    }
  },
  "nbformat": 4,
  "nbformat_minor": 0
}